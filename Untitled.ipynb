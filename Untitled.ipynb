{
 "cells": [
  {
   "cell_type": "code",
   "execution_count": 1,
   "id": "d2e7cf4d",
   "metadata": {
    "scrolled": true
   },
   "outputs": [],
   "source": [
    "# https://www.sbert.net/\n",
    "from sentence_transformers import SentenceTransformer\n",
    "model = SentenceTransformer('paraphrase-MiniLM-L6-v2')\n",
    "\n",
    "#Change the length to 100\n",
    "model.max_seq_length = 120\n",
    "\n",
    "#Our sentences we like to encode\n",
    "# sentences = ['This framework generates embeddings for each input sentence',\n",
    "#     'Sentences are passed as a list of string.',\n",
    "#     'The quick brown fox jumps over the lazy dog.']\n",
    "\n",
    "# #Sentences are encoded by calling model.encode()\n",
    "# embeddings = model.encode(sentences)\n",
    "\n",
    "# #Print the embeddings\n",
    "# for sentence, embedding in zip(sentences, embeddings):\n",
    "#     print(\"Sentence:\", sentence)\n",
    "#     print(\"Embedding:\", embedding)\n",
    "#     print(\"\")"
   ]
  },
  {
   "cell_type": "code",
   "execution_count": 2,
   "id": "1d6aa634",
   "metadata": {},
   "outputs": [],
   "source": [
    "import pandas as pd\n",
    "import re \n",
    "\n",
    "data = pd.read_csv(\"training-data-positive-and-negative-sentiment-english.csv\")\n",
    "\n",
    "print(data)\n",
    "data = data.replace(to_replace='https?:\\/\\/\\S+', value='', regex=True) # remove https urls \n",
    "data = data.replace(to_replace=\"www\\.[a-z]?\\.?(com)+|[a-z]+\\.(com)\", value='', regex=True) # remove www urls \n",
    "data = data.replace(to_replace=\"\\[video\\]\", value='', regex=True) # remove videos that got replaced with [video]\n",
    "data = data.replace(to_replace='{link}', value='', regex=True) # remove links \n",
    "data = data.replace(to_replace='&[a-z]+;', value='', regex=True) # remove HTML embedded characters\n",
    "data = data.replace(to_replace='@[^ ]+', value='', regex=True) # remove @usernames \n",
    "\n",
    "tweets = []\n",
    "labels = []\n",
    "for index, row in data.iterrows():\n",
    "    tweets.append(row['text'])\n",
    "    if row['Sentiment'] == \"Positive\":\n",
    "        labels.append(1)\n",
    "    else:\n",
    "        labels.append(0)\n",
    "\n",
    "# print(labels)\n",
    "# print(len(labels))\n",
    "# print(tweets)\n",
    "# print(len(tweets))\n",
    "print(\"after\")\n",
    "print(data)"
   ]
  },
  {
   "cell_type": "code",
   "execution_count": 7,
   "id": "3a899889",
   "metadata": {
    "scrolled": false
   },
   "outputs": [
    {
     "name": "stdout",
     "output_type": "stream",
     "text": [
      "start\n",
      "done\n"
     ]
    }
   ],
   "source": [
    "# Sentences are encoded by calling model.encode()\n",
    "print(\"start\")\n",
    "embeddings = model.encode(tweets)\n",
    "\n",
    "# Print the embeddings\n",
    "# for tweet, embedding in zip(tweets, embeddings):\n",
    "#     print(\"Sentence:\", tweet)\n",
    "#     print(\"Embedding:\", embedding)\n",
    "#     print(\"length:\", embedding.shape)\n",
    "#     print(\"\")\n",
    "    \n",
    "print(\"done\")"
   ]
  },
  {
   "cell_type": "code",
   "execution_count": null,
   "id": "76e5ff38",
   "metadata": {},
   "outputs": [],
   "source": [
    "// 29743"
   ]
  },
  {
   "cell_type": "code",
   "execution_count": 8,
   "id": "7c0f68d4",
   "metadata": {},
   "outputs": [
    {
     "name": "stdout",
     "output_type": "stream",
     "text": [
      "53549\n",
      "53549\n"
     ]
    }
   ],
   "source": [
    "# X = embeddings #[[0], [1], [2], [3]]\n",
    "# Y = labels #[0, 0, 1, 1]\n",
    "training_embeddings = embeddings[:53549]\n",
    "testing_embeddings = embeddings[53550:]\n",
    "\n",
    "training_labels = labels[:53549]\n",
    "testing_labels = labels[53550:]\n",
    "\n",
    "X = training_embeddings\n",
    "Y = training_labels\n",
    "\n",
    "print(len(X))\n",
    "print(len(Y))"
   ]
  },
  {
   "cell_type": "code",
   "execution_count": 9,
   "id": "b98fcdbf",
   "metadata": {},
   "outputs": [
    {
     "name": "stdout",
     "output_type": "stream",
     "text": [
      "done\n"
     ]
    }
   ],
   "source": [
    "\n",
    "from sklearn.neighbors import KNeighborsClassifier\n",
    "neigh = KNeighborsClassifier(n_neighbors=15)\n",
    "neigh.fit(X, Y)\n",
    "#[0]\n",
    "#print(neigh.predict_proba([[0.9]]))\n",
    "#[[0.666... 0.333...]]\n",
    "    \n",
    "print(\"done\")"
   ]
  },
  {
   "cell_type": "code",
   "execution_count": 10,
   "id": "f2c1b803",
   "metadata": {},
   "outputs": [],
   "source": [
    "predictions = neigh.predict(testing_embeddings)"
   ]
  },
  {
   "cell_type": "code",
   "execution_count": 13,
   "id": "b608e7e8",
   "metadata": {},
   "outputs": [
    {
     "name": "stdout",
     "output_type": "stream",
     "text": [
      "5950\n",
      "5950\n"
     ]
    }
   ],
   "source": [
    "print(len(predictions))\n",
    "print(len(testing_labels))"
   ]
  },
  {
   "cell_type": "code",
   "execution_count": 15,
   "id": "74b67d95",
   "metadata": {},
   "outputs": [
    {
     "name": "stdout",
     "output_type": "stream",
     "text": [
      "3150\n",
      "5950\n",
      "0.5294117647058824\n"
     ]
    }
   ],
   "source": [
    "numerator = 0\n",
    "demoninator = 0\n",
    "for i in range(0,len(predictions)):\n",
    "    if predictions[i] == testing_labels[i]:\n",
    "        numerator = numerator + 1\n",
    "        demoninator = demoninator + 1\n",
    "    else:\n",
    "        demoninator = demoninator + 1\n",
    "print(numerator)\n",
    "print(demoninator)\n",
    "print(numerator/demoninator)\n",
    "            "
   ]
  },
  {
   "cell_type": "code",
   "execution_count": 17,
   "id": "1b98ff6e",
   "metadata": {},
   "outputs": [
    {
     "data": {
      "image/png": "[encoded data removed]",
      "text/plain": [
       "<Figure size 360x360 with 1 Axes>"
      ]
     },
     "metadata": {
      "needs_background": "light"
     },
     "output_type": "display_data"
    }
   ],
   "source": [
    "\n",
    "from sklearn.metrics import confusion_matrix\n",
    "\n",
    "conf_matrix = confusion_matrix(y_true=testing_labels, y_pred=predictions)\n",
    "\n",
    "fig, ax = plt.subplots(figsize=(5, 5))\n",
    "ax.matshow(conf_matrix, cmap=plt.cm.Oranges, alpha=0.3)\n",
    "for i in range(conf_matrix.shape[0]):\n",
    "    for j in range(conf_matrix.shape[1]):\n",
    "        ax.text(x=j, y=i,s=conf_matrix[i, j], va='center', ha='center', size='xx-large')\n",
    "plt.xlabel('Predictions', fontsize=18)\n",
    "plt.ylabel('Actuals', fontsize=18)\n",
    "plt.title('Confusion Matrix', fontsize=18)\n",
    "plt.show()"
   ]
  },
  {
   "cell_type": "code",
   "execution_count": 18,
   "id": "b1081a86",
   "metadata": {},
   "outputs": [
    {
     "name": "stdout",
     "output_type": "stream",
     "text": [
      "Precision: 0.000\n",
      "Recall: 0.000\n",
      "Accuracy: 0.529\n",
      "F1 Score: 0.000\n"
     ]
    },
    {
     "name": "stderr",
     "output_type": "stream",
     "text": [
      "/Library/Frameworks/Python.framework/Versions/3.9/lib/python3.9/site-packages/sklearn/metrics/_classification.py:1308: UndefinedMetricWarning: Recall is ill-defined and being set to 0.0 due to no true samples. Use `zero_division` parameter to control this behavior.\n",
      "  _warn_prf(average, modifier, msg_start, len(result))\n"
     ]
    }
   ],
   "source": [
    "from sklearn.metrics import precision_score, recall_score, accuracy_score, f1_score \n",
    "print('Precision: %.3f' % precision_score(testing_labels, predictions))\n",
    "print('Recall: %.3f' % recall_score(testing_labels, predictions))\n",
    "print('Accuracy: %.3f' % accuracy_score(testing_labels, predictions))\n",
    "print('F1 Score: %.3f' % f1_score(testing_labels, predictions))"
   ]
  },
  {
   "cell_type": "code",
   "execution_count": 20,
   "id": "9054db82",
   "metadata": {},
   "outputs": [
    {
     "data": {
      "text/plain": [
       "array([-4.24144328e-01,  7.29865208e-02, -3.90853167e-01, -4.40990537e-01,\n",
       "       -1.21757686e-01, -2.09736615e-01, -2.21434440e-02,  3.64549994e-01,\n",
       "        3.25870484e-01, -1.29040897e-01,  2.90123135e-01, -3.21196258e-01,\n",
       "        1.82925742e-02, -1.61607385e-01,  2.29332894e-01, -2.21388549e-01,\n",
       "        8.95931274e-02,  2.84614004e-02,  6.55758455e-02,  6.22161217e-02,\n",
       "       -5.07403314e-02, -3.19057494e-01,  1.57043546e-01,  9.13216025e-02,\n",
       "       -1.32893145e-01,  2.65646815e-01,  2.27038860e-01, -6.16372526e-02,\n",
       "        1.59397319e-01, -7.58204609e-02,  4.51150715e-01,  3.79941344e-01,\n",
       "       -4.73966449e-02, -7.02953562e-02,  3.22747260e-01, -1.85764372e-01,\n",
       "       -2.40738779e-01, -4.15811650e-02, -9.34732631e-02, -2.58066416e-01,\n",
       "       -2.25107744e-01, -3.63583893e-01,  2.08043233e-01, -1.96395189e-01,\n",
       "        2.07187533e-01, -1.57253951e-01, -3.02398175e-01, -5.32397367e-02,\n",
       "        2.36810043e-01, -4.20717657e-01,  4.04334515e-01,  1.87656403e-01,\n",
       "        2.03971118e-01, -3.52512300e-01, -5.87576404e-02, -1.52503163e-01,\n",
       "       -5.27259037e-02,  4.35736746e-01,  3.76255095e-01,  4.00647759e-01,\n",
       "        6.11851096e-01,  1.76407099e-02, -1.90162778e-01,  3.82110059e-01,\n",
       "        1.42423332e-01,  1.01823606e-01,  2.74788141e-01, -1.52137682e-01,\n",
       "       -2.02914447e-01,  1.61512151e-01,  3.72696638e-01, -1.60376728e-01,\n",
       "       -2.28165668e-02, -3.96028161e-02,  2.36495093e-01,  4.82268855e-02,\n",
       "        3.20869118e-01,  1.33595780e-01, -3.02271187e-01, -1.24806270e-01,\n",
       "       -5.37528805e-02, -1.95289478e-01,  9.18417275e-02, -4.73987848e-01,\n",
       "        1.55449644e-01,  4.35427606e-01,  1.07321545e-01, -5.81530109e-02,\n",
       "       -4.71021719e-02, -4.29798663e-01, -2.83308119e-01,  1.31853402e-01,\n",
       "        2.98005730e-01, -3.67153101e-02,  4.44871992e-01, -2.62614191e-01,\n",
       "        7.89004937e-03, -2.18317255e-01, -1.82110623e-01,  9.89871025e-02,\n",
       "       -7.54217803e-02,  2.86184222e-01, -1.18170485e-01,  1.68263271e-01,\n",
       "       -1.59810986e-02,  4.77710329e-02,  3.21804672e-01,  1.07102983e-01,\n",
       "        2.22135663e-01,  3.21410120e-01, -1.67102680e-01,  3.06870162e-01,\n",
       "        7.47369463e-03,  1.35111045e-02,  3.21795583e-01, -1.79203033e-01,\n",
       "        6.51362017e-02, -1.58905089e-01, -7.91800246e-02,  1.23188436e-01,\n",
       "        1.24251775e-01, -2.48164788e-01, -5.72512627e-01, -1.81682017e-02,\n",
       "        1.10424407e-01, -2.51768231e-02,  4.57284063e-01,  3.59371781e-01,\n",
       "       -3.68173212e-01, -6.47966489e-02, -3.13946337e-01, -3.02372754e-01,\n",
       "        2.98023641e-01, -8.36068206e-03,  6.15643598e-02, -9.22185779e-02,\n",
       "       -3.08147073e-01,  2.98108250e-01, -3.93439800e-01, -1.08351484e-02,\n",
       "       -6.05579555e-01, -2.31078006e-02,  1.99263617e-01, -2.98486561e-01,\n",
       "       -2.50872701e-01, -2.72143036e-01,  2.34430745e-01,  2.04928130e-01,\n",
       "        2.38074940e-02, -9.53148231e-02,  2.00942487e-01,  9.24943760e-03,\n",
       "        2.28674755e-01,  3.88413280e-01,  2.26045161e-01, -4.08331826e-02,\n",
       "       -8.61508027e-02,  1.91987395e-01, -1.73202008e-02, -7.91392475e-03,\n",
       "        2.04854965e-01, -2.43254840e-01,  1.45990342e-01,  3.25595319e-01,\n",
       "       -1.15121752e-01, -2.56221950e-01, -3.40050459e-01, -3.82920690e-02,\n",
       "        2.76636798e-02, -1.15522370e-02, -7.75361538e-01,  3.82821970e-02,\n",
       "       -1.98404133e-01,  5.25445156e-02, -1.49879277e-01, -2.43810430e-01,\n",
       "        2.63646811e-01,  7.06215277e-02, -4.28694189e-01,  9.20822248e-02,\n",
       "       -9.02816772e-01, -3.52319628e-01,  1.97595805e-01, -5.21866739e-01,\n",
       "       -3.63348812e-01,  1.30890124e-02, -1.77801266e-01,  1.93794277e-02,\n",
       "       -3.05620749e-02, -7.25730583e-02, -8.21029544e-02,  1.17476091e-01,\n",
       "       -4.83249307e-01, -1.66807950e-01,  1.55227736e-01, -2.01841652e-01,\n",
       "       -3.11619528e-02, -3.18784900e-02, -1.96272343e-01,  1.55706227e-01,\n",
       "       -3.94353829e-02, -4.99636143e-01, -1.18744679e-01, -8.89553204e-02,\n",
       "       -1.56657860e-01,  2.36650497e-01,  4.30532619e-02,  1.07820235e-01,\n",
       "        1.29277846e-02, -1.79668695e-01,  4.07311112e-01,  1.56993955e-01,\n",
       "       -3.39020193e-01,  2.46003196e-01,  9.10717547e-02, -3.21477056e-02,\n",
       "       -7.02462122e-02,  2.09698770e-02, -1.31651908e-01,  2.32683703e-01,\n",
       "        3.33482921e-01, -1.52550489e-01,  3.13163251e-01,  1.64948753e-04,\n",
       "       -7.80384690e-02,  1.62611082e-01, -1.38396276e-02,  3.93028170e-01,\n",
       "       -1.09069804e-02, -1.84951514e-01, -2.24660903e-01,  2.72410899e-01,\n",
       "        7.09270984e-02, -2.87459344e-01,  2.55063087e-01, -9.14184004e-02,\n",
       "       -2.28106845e-02,  7.00951070e-02, -1.72395527e-01,  3.29507105e-02,\n",
       "       -2.39683874e-02, -1.15282603e-01,  1.13699347e-01, -9.88294035e-02,\n",
       "        1.07956998e-01, -4.65615630e-01, -9.74085480e-02, -3.40577662e-02,\n",
       "       -1.95435479e-01,  3.17826807e-01,  4.09695357e-01,  2.17662990e-01,\n",
       "       -2.00065598e-02, -6.19717315e-02, -1.29696159e-02,  1.41189188e-01,\n",
       "       -6.24148212e-02, -8.20151865e-02,  5.47142141e-02, -1.05678193e-01,\n",
       "        4.88700360e-01,  2.56892532e-01, -6.69498503e-01, -1.26855254e-01,\n",
       "        9.85637382e-02,  5.35435796e-01, -5.99697053e-01,  2.77500123e-01,\n",
       "       -2.89356649e-01, -1.00804374e-01,  3.61375630e-01, -3.24927092e-01,\n",
       "        1.42621964e-01, -3.27166319e-01,  5.18168867e-01, -5.25626056e-02,\n",
       "        2.80527562e-01, -1.52956307e-01, -2.31982201e-01,  5.79266131e-01,\n",
       "        6.96672052e-02,  1.51096776e-01,  4.38783914e-01,  1.48551911e-01,\n",
       "        4.41517420e-02,  1.03411347e-01, -2.93893754e-01, -1.76128909e-01,\n",
       "       -1.60838515e-01, -2.07702413e-01, -3.79616261e-01,  5.48618019e-01,\n",
       "        3.81632596e-02,  4.58204687e-01,  1.58604994e-01, -7.40724877e-02,\n",
       "        2.57533398e-02, -1.01964362e-02, -1.89357355e-01, -1.25739560e-01,\n",
       "       -4.53761429e-01, -1.43316999e-01, -2.07891725e-02,  1.84222125e-02,\n",
       "       -7.52629340e-02, -2.94977427e-02, -3.05754006e-01, -7.43000954e-02,\n",
       "        5.45316398e-01,  7.81563222e-02,  2.59676218e-01, -1.67964503e-01,\n",
       "       -4.22004089e-02,  2.03763887e-01, -2.26315528e-01,  4.41830724e-01,\n",
       "       -1.66025326e-01,  1.04759350e-01,  4.17762846e-01,  3.06266457e-01,\n",
       "        2.98933893e-01, -3.58045936e-01, -4.11484301e-01,  2.57314920e-01,\n",
       "        2.58799702e-01,  3.28254104e-01, -1.69593722e-01, -3.15619469e-01,\n",
       "        8.96371901e-02,  1.75657064e-01,  1.38629183e-01, -3.08770593e-02,\n",
       "       -3.92496616e-01, -2.39274800e-01,  4.25147340e-02,  6.04292691e-01,\n",
       "       -2.18153343e-01, -1.09143473e-01,  1.73628896e-01,  1.83304101e-02,\n",
       "       -3.24564338e-01, -1.56327441e-01,  1.19421937e-01, -3.87559712e-01,\n",
       "       -3.21636021e-01,  8.61749873e-02,  1.50275558e-01,  2.36363366e-01,\n",
       "        2.66654551e-01,  1.64568111e-01, -1.10087357e-01,  2.68168509e-01,\n",
       "       -2.58154958e-01, -2.71081567e-01, -3.90220471e-02,  2.23218605e-01,\n",
       "       -3.11040133e-01, -6.11416735e-02,  8.05719495e-02, -4.70292121e-02,\n",
       "       -1.64617196e-01,  7.13466108e-02, -2.49319911e-01,  3.35307926e-01,\n",
       "        4.02681902e-03, -3.75976153e-02, -6.56171050e-03, -2.85456747e-01,\n",
       "       -5.12199588e-02, -1.55870378e-01, -4.28943902e-01, -3.77061218e-01,\n",
       "        5.44097237e-02,  1.93189323e-01,  4.74988401e-01, -1.02402687e-01,\n",
       "        1.77835464e-01,  6.74270019e-02, -1.61202222e-01,  2.24631041e-01,\n",
       "       -9.47279576e-03, -1.89295068e-01,  4.71859992e-01, -1.96820050e-01],\n",
       "      dtype=float32)"
      ]
     },
     "execution_count": 20,
     "metadata": {},
     "output_type": "execute_result"
    }
   ],
   "source": [
    "embeddings[0]"
   ]
  },
  {
   "cell_type": "code",
   "execution_count": null,
   "id": "248cb26c",
   "metadata": {},
   "outputs": [],
   "source": []
  }
 ],
 "metadata": {
  "kernelspec": {
   "display_name": "Python 3 (ipykernel)",
   "language": "python",
   "name": "python3"
  },
  "language_info": {
   "codemirror_mode": {
    "name": "ipython",
    "version": 3
   },
   "file_extension": ".py",
   "mimetype": "text/x-python",
   "name": "python",
   "nbconvert_exporter": "python",
   "pygments_lexer": "ipython3",
   "version": "3.9.5"
  }
 },
 "nbformat": 4,
 "nbformat_minor": 5
}
